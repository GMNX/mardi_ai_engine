{
 "cells": [
  {
   "cell_type": "markdown",
   "metadata": {},
   "source": [
    "# Filter Gray Images\n",
    "### Importing Libraries"
   ]
  },
  {
   "cell_type": "code",
   "execution_count": 1,
   "metadata": {},
   "outputs": [],
   "source": [
    "import os\n",
    "import random\n",
    "import cv2"
   ]
  },
  {
   "cell_type": "markdown",
   "metadata": {},
   "source": [
    "### Define function to add noises to images"
   ]
  },
  {
   "cell_type": "code",
   "execution_count": 2,
   "metadata": {},
   "outputs": [],
   "source": [
    "def add_noise(img):\n",
    "    # Getting the dimensions of the image\n",
    "    row, col = img.shape\n",
    "\n",
    "    # Randomly pick some pixels in the image for coloring them white\n",
    "    number_of_pixels = random.randint(300, 10000)\n",
    "    for i in range(number_of_pixels):\n",
    "        # Pick a random y coordinate\n",
    "        y_coord = random.randint(0, row - 1)\n",
    "        # Pick a random x coordinate\n",
    "        x_coord = random.randint(0, col - 1)\n",
    "        # Color that pixel to white\n",
    "        img[y_coord][x_coord] = 255\n",
    "\n",
    "    # Randomly pick some pixels in the image for coloring them black\n",
    "    number_of_pixels = random.randint(300, 10000)\n",
    "    for i in range(number_of_pixels):\n",
    "        # Pick a random y coordinate\n",
    "        y_coord = random.randint(0, row - 1)\n",
    "        # Pick a random x coordinate\n",
    "        x_coord = random.randint(0, col - 1)\n",
    "        # Color that pixel to black\n",
    "        img[y_coord][x_coord] = 0\n",
    "\n",
    "    return img"
   ]
  },
  {
   "cell_type": "markdown",
   "metadata": {},
   "source": [
    "### Define function to process images"
   ]
  },
  {
   "cell_type": "code",
   "execution_count": 3,
   "metadata": {},
   "outputs": [],
   "source": [
    "def process_images(input_folder, output_folder):\n",
    "    if not os.path.exists(output_folder):\n",
    "        os.makedirs(output_folder)\n",
    "\n",
    "    for filename in os.listdir(input_folder):\n",
    "        if filename.endswith('.jpg') or filename.endswith('.png'):\n",
    "            img_path = os.path.join(input_folder, filename)\n",
    "            img = cv2.imread(img_path, cv2.IMREAD_GRAYSCALE)\n",
    "            if img is not None:\n",
    "                noisy_img = add_noise(img)\n",
    "                output_path = os.path.join(output_folder, 'noisy-' + filename)\n",
    "                cv2.imwrite(output_path, noisy_img)\n",
    "                print(f'Processed and saved: {output_path}')"
   ]
  },
  {
   "cell_type": "markdown",
   "metadata": {},
   "source": [
    "### Apply the function to the images"
   ]
  },
  {
   "cell_type": "code",
   "execution_count": 4,
   "metadata": {},
   "outputs": [
    {
     "name": "stdout",
     "output_type": "stream",
     "text": [
      "Processed and saved: mask_extraction_noisy/noisy-week_1.jpg\n",
      "Processed and saved: mask_extraction_noisy/noisy-week_2.jpg\n",
      "Processed and saved: mask_extraction_noisy/noisy-week_3.jpg\n",
      "Processed and saved: mask_extraction_noisy/noisy-week_4.jpg\n",
      "Processed and saved: mask_extraction_noisy/noisy-week_5.jpg\n"
     ]
    }
   ],
   "source": [
    "input_folder = 'mask_extraction'\n",
    "output_folder = 'mask_extraction_noisy'\n",
    "process_images(input_folder, output_folder)"
   ]
  },
  {
   "cell_type": "code",
   "execution_count": null,
   "metadata": {},
   "outputs": [],
   "source": []
  }
 ],
 "metadata": {
  "kernelspec": {
   "display_name": "Python 3 (ipykernel)",
   "language": "python",
   "name": "python3"
  },
  "language_info": {
   "codemirror_mode": {
    "name": "ipython",
    "version": 3
   },
   "file_extension": ".py",
   "mimetype": "text/x-python",
   "name": "python",
   "nbconvert_exporter": "python",
   "pygments_lexer": "ipython3",
   "version": "3.10.8"
  }
 },
 "nbformat": 4,
 "nbformat_minor": 4
}
